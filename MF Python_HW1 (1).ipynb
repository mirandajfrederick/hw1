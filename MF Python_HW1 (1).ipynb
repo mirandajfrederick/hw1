{
 "cells": [
  {
   "cell_type": "markdown",
   "metadata": {},
   "source": [
    "# Python HW 1\n",
    "- This is just a refresher to give me an idea of your Python proficiency\n",
    "- Each part is worth 1 point\n",
    "- As long as you try \"something\" I will give that point\n",
    "- It might be smart to use the jupyter run-by-line debugger and watch the variable values. I've also exported this notebook in a .py, in case you want to you a real debugger.\n",
    "- Solutions are at the end but only look at them after you've really tried to solve it first!\n",
    "- It's perfectly fine if you have a different solution than mine a long as it works\n",
    "- Once you're done, please create a html export of your notebook and hand it in as a separate file, in addition to your zipped HW folder"
   ]
  },
  {
   "cell_type": "markdown",
   "metadata": {},
   "source": [
    "### 1) slice, append, join\n",
    "- From L make a list Ls that contains `[\"Hi\",\"my\", \"name\", \"is\", \"Chris\"]`\n",
    "- use slice, index, append, +, whatever works\n",
    "- join Ls with single spaces, into this string s: `\"Hi my name is Chris\"`"
   ]
  },
  {
   "cell_type": "code",
   "execution_count": 2,
   "metadata": {},
   "outputs": [
    {
     "name": "stdout",
     "output_type": "stream",
     "text": [
      "['Hi', 'my', 'name', 'is', 'Chris']\n",
      "Hi my name is Chris\n"
     ]
    }
   ],
   "source": [
    "L = [\"Start\", \"Hi\",\"my\", \"name\", \"is\", \"Chris\", \"End\"]\n",
    "Ls = L[1:6] \n",
    "print(Ls)\n",
    "s = \" \".join(Ls)\n",
    "print(s)"
   ]
  },
  {
   "attachments": {},
   "cell_type": "markdown",
   "metadata": {},
   "source": [
    "###  2) Print out sentences\n",
    "- Task: Break the string s into sentences (which end in a .), count them and print them out using a loop:\n",
    "- result: (I truncated them with ...)\n",
    "\n",
    "```\n",
    "Python is an interpreted, high-level, general-purpose programming language\n",
    "Created by Guido van Rossum and first released in 1991, Python ...\n",
    "Its language constructs and object-oriented approach aim to help programmers ...\n",
    "```"
   ]
  },
  {
   "cell_type": "code",
   "execution_count": 46,
   "metadata": {},
   "outputs": [
    {
     "name": "stdout",
     "output_type": "stream",
     "text": [
      "['Python is an interpreted, high-level, general-purpose programming language', \" Created by Guido van Rossum and first released in 1991, Python's design philosophy emphasizes code readability with its notable use of significant whitespace\", ' Its language constructs and object-oriented approach aim to help programmers write clear, logical code for small and large-scale projects', '']\n",
      "Python is an interpreted, high-level, general-purpose programming language\n",
      " Created by Guido van Rossum and first released in 1991, Python's design philosophy emphasizes code readability with its notable use of significant whitespace\n",
      " Its language constructs and object-oriented approach aim to help programmers write clear, logical code for small and large-scale projects\n",
      "\n"
     ]
    }
   ],
   "source": [
    "s = \"Python is an interpreted, high-level, general-purpose programming language. Created by Guido van Rossum and first released in 1991, Python's design philosophy emphasizes code readability with its notable use of significant whitespace. Its language constructs and object-oriented approach aim to help programmers write clear, logical code for small and large-scale projects.\"\n",
    "s_list = s.split(\".\")\n",
    "print(s_list)\n",
    "for s in s_list: \n",
    "    print(s)"
   ]
  },
  {
   "cell_type": "markdown",
   "metadata": {},
   "source": [
    "### part 3: print out separate words\n",
    " Task: \n",
    " - break s into a list of words (i.e. now separated by space)\n",
    " - print out the word list (with a loop) so that every 2. word is in full uppercase.\n",
    " - optionally remove all periods and commas\n",
    " - result:\n",
    " ```\n",
    " Python\n",
    " IS\n",
    " an\n",
    " INTERPRETED\n",
    " high-level\n",
    " GENERAL-PURPOSE\n",
    " programming\n",
    " LANGUAGE\n",
    " ```"
   ]
  },
  {
   "cell_type": "code",
   "execution_count": 43,
   "metadata": {},
   "outputs": [
    {
     "name": "stdout",
     "output_type": "stream",
     "text": [
      "P Y t H o N   I s   a N   I n T e R p R e T e D ,   h I g H - L e V e L ,   g E n E r A l - p U r P o S e   p R o G r A m M i N g   l A n G u A g E .\n"
     ]
    }
   ],
   "source": [
    "s = \"Python is an interpreted, high-level, general-purpose programming language.\"\n",
    "s.split(\" \")\n",
    "for i, s in enumerate(s):\n",
    "    if i % 2 == 1:\n",
    "        modified_words.append(s.upper())  \n",
    "    else:\n",
    "        modified_words.append(s)  \n",
    "result_string = ' '.join(modified_words)\n",
    "print(result_string)\n",
    "\n"
   ]
  },
  {
   "attachments": {},
   "cell_type": "markdown",
   "metadata": {},
   "source": [
    "### part 4 - Abbreviate a string\n",
    "- task: abbreviate a potentially long string s to have only the x first and x last chars with ... in between.\n",
    "- for x = 5 this would be: \"A very long description\" => \"A ver...ption\" (... is called filler).\n",
    "- In a loop, set x from 5 to and to 15 and print out x and the abbreviated version \n",
    " there'll be an issue where the result would actually be longer(!) than the un-abbreviated s. \n",
    "- For these cases, do not perform your abbreviation, simply print out s. Note that this\n",
    " should work for any other string a or filler as well, so don't hardcode things!\n",
    " \n",
    " Optional:\n",
    "- write a general function `abbr(s, filler=\"...\", total_width=15)` which abbreviates s\n",
    " to total_width chars and uses the string filler in between them. Again, make sure the result is not longer than s!\n",
    "- You can either use print() inside your function or have it return a list of strings and print that out outside the function in a loop (preferable)\n",
    "- call your function a couple of times with different parameters and also test edge cases"
   ]
  },
  {
   "cell_type": "code",
   "execution_count": 54,
   "metadata": {},
   "outputs": [
    {
     "name": "stdout",
     "output_type": "stream",
     "text": [
      "A very long description\n",
      "A very long description\n",
      "A very long description\n",
      "A very long description\n",
      "A very long description\n",
      "A very long description\n",
      "11\n",
      "12\n",
      "13\n",
      "14\n"
     ]
    }
   ],
   "source": [
    "s = \"A very long description\" \n",
    "filler = \"...\"\n",
    "for x in range(5, 15):\n",
    "    if x * 2 + len(filler) > len(s):\n",
    "        print(x)\n",
    "    else: print(s)\n",
    "        "
   ]
  },
  {
   "cell_type": "code",
   "execution_count": null,
   "metadata": {},
   "outputs": [],
   "source": [
    "''' Solutions\n",
    "\n",
    "\n",
    "\n",
    "\n",
    "\n",
    "\n",
    "\n",
    "\n",
    "\n",
    "\n",
    "\n",
    "\n",
    "\n",
    "\n",
    "\n",
    "\n",
    "\n",
    "\n",
    "\n",
    "\n",
    "\n",
    "\n",
    "\n",
    "\n",
    "\n",
    "\n",
    "\n",
    "\n",
    "\n",
    "\n",
    "\n",
    "\n",
    "\n",
    "\n",
    "\n",
    "\n",
    "\n",
    "\n",
    "\n",
    "\n",
    "\n",
    "\n",
    "\n",
    "\n",
    "\n",
    "\n",
    "\n",
    "\n",
    "\n",
    "\n",
    "\n",
    "\n",
    "\n",
    "\n",
    "\n",
    "\n",
    "'''"
   ]
  },
  {
   "cell_type": "markdown",
   "metadata": {},
   "source": [
    "### Solutions"
   ]
  },
  {
   "cell_type": "code",
   "execution_count": 2,
   "metadata": {},
   "outputs": [
    {
     "name": "stdout",
     "output_type": "stream",
     "text": [
      "['Hi', 'my', 'name', 'is', 'Chris']\n",
      "Hi my name is Chris\n"
     ]
    }
   ],
   "source": [
    "# solution 1\n",
    "L = [\"Start\", \"Hi\",\"my\", \"name\", \"is\", \"Chris\", \"End\"]\n",
    "Ls = L[1:-1]\n",
    "print(Ls)\n",
    "s = \" \".join(Ls)\n",
    "print(s)"
   ]
  },
  {
   "cell_type": "code",
   "execution_count": 5,
   "metadata": {},
   "outputs": [
    {
     "name": "stdout",
     "output_type": "stream",
     "text": [
      "Python is an interpreted, high-level, general-purpose programming language\n",
      " Created by Guido van Rossum and first released in 1991, Python's design philosophy emphasizes code readability with its notable use of significant whitespace\n",
      " Its language constructs and object-oriented approach aim to help programmers write clear, logical code for small and large-scale projects\n",
      "\n"
     ]
    }
   ],
   "source": [
    "# solution 2\n",
    "s = \"Python is an interpreted, high-level, general-purpose programming language. Created by Guido van Rossum and first released in 1991, Python's design philosophy emphasizes code readability with its notable use of significant whitespace. Its language constructs and object-oriented approach aim to help programmers write clear, logical code for small and large-scale projects.\"\n",
    "sentence_list = s.split('.')\n",
    "for e in sentence_list:\n",
    "    print(e)"
   ]
  },
  {
   "cell_type": "code",
   "execution_count": 6,
   "metadata": {},
   "outputs": [
    {
     "name": "stdout",
     "output_type": "stream",
     "text": [
      "Python\n",
      "IS\n",
      "an\n",
      "INTERPRETED\n",
      "high-level\n",
      "GENERAL-PURPOSE\n",
      "programming\n",
      "LANGUAGE\n"
     ]
    }
   ],
   "source": [
    "# solution 3\n",
    "\n",
    "# version 1 - using 1/-1 flipping\n",
    "s = \"Python is an interpreted, high-level, general-purpose programming language.\"\n",
    "\n",
    "words = s.split()\n",
    "make_upper = -1  # we start with 1 for normal print-out, then flip -1 for uppercase, then back, etc.\n",
    "\n",
    "for w in words:\n",
    "    w = w.replace('.', '') # replace . with empty list\n",
    "    w = w.replace(',', '') # replace , with empty list\n",
    "    if make_upper == 1:\n",
    "        print(w.upper())\n",
    "    else:\n",
    "        print(w)\n",
    "    make_upper *= -1 # flip from 1 to -1 or vice versa"
   ]
  },
  {
   "cell_type": "code",
   "execution_count": 7,
   "metadata": {},
   "outputs": [
    {
     "name": "stdout",
     "output_type": "stream",
     "text": [
      "Python\n",
      "IS\n",
      "an\n",
      "INTERPRETED\n",
      "high-level\n",
      "GENERAL-PURPOSE\n",
      "programming\n",
      "LANGUAGE\n"
     ]
    }
   ],
   "source": [
    "# version 2 - using a flag (bool variable)\n",
    "s = \"Python is an interpreted, high-level, general-purpose programming language.\"\n",
    "words = s.split()\n",
    "make_upper = False  # we start with False for normal print-out, then flip to True for uppercase, then back, etc.\n",
    "for w in words:\n",
    "    w = w.replace('.', '') # replace . with empty list\n",
    "    w = w.replace(',', '') # replace , with empty list\n",
    "    if make_upper == True:\n",
    "        print(w.upper())\n",
    "        make_upper = False # it's currently True, so set to False\n",
    "    else:\n",
    "        print(w)\n",
    "        make_upper = True # it must currently be False, so set to True"
   ]
  },
  {
   "cell_type": "code",
   "execution_count": 8,
   "metadata": {},
   "outputs": [
    {
     "name": "stdout",
     "output_type": "stream",
     "text": [
      "5 A ver...ption\n",
      "6 A very...iption\n",
      "7 A very ...ription\n",
      "8 A very l...cription\n",
      "9 A very lo...scription\n",
      "10 A very lon...escription\n",
      "11 A very long description\n",
      "12 A very long description\n",
      "13 A very long description\n",
      "14 A very long description\n"
     ]
    }
   ],
   "source": [
    "# solution 4\n",
    "\n",
    "# version 1: without a function\n",
    "s = \"A very long description\" # a long string\n",
    "filler = \"...\"\n",
    "\n",
    "for x in range(5, 15):\n",
    "    # check if abbreviation would be longer than s\n",
    "    if x * 2 + len(filler) > len(s):\n",
    "        print(x, s)\n",
    "    else:\n",
    "        abb_str = s[0:x] + filler + s[-x:] # slice off ends and glue together with filler chars\n",
    "        print(x, abb_str)\n",
    "\n",
    "\n"
   ]
  },
  {
   "cell_type": "code",
   "execution_count": 2,
   "metadata": {},
   "outputs": [
    {
     "name": "stdout",
     "output_type": "stream",
     "text": [
      "5 A v...on\n",
      "6 A v...ion\n",
      "7 A ve...ion\n",
      "8 A ve...tion\n",
      "9 A ver...tion\n",
      "10 A ver...ption\n",
      "11 A very...ption\n",
      "12 A very...iption\n",
      "13 A very ...iption\n",
      "14 A very ...ription\n",
      "15 A very l...ription\n",
      "16 A very l...cription\n",
      "17 A very lo...cription\n",
      "18 A very lo...scription\n",
      "19 A very lon...scription\n",
      "20 A very lon...escription\n",
      "21 A very long description\n",
      "22 A very long description\n",
      "23 A very long description\n",
      "\n",
      "\n",
      "\n",
      "\n",
      "test\n",
      "test\n",
      "test\n",
      "test\n",
      "A very long description\n",
      "A very long description\n"
     ]
    }
   ],
   "source": [
    "# version 2: with function\n",
    "\n",
    "def abbr(s, filler=\"...\", total_width=15):\n",
    "    \"returns a copy of s abbreviated to total_width with filler in the middle\" \n",
    "\n",
    "    x = total_width // 2 # integer division\n",
    "    rem = total_width % 2 # remainder will be 1 if width is odd\n",
    "    abb_str = s[0:x+rem] + filler + s[-x:] # for odd width, add one to front\n",
    "    if len(abb_str) > len(s):\n",
    "        return s\n",
    "    return abb_str\n",
    "\n",
    "# Test (with function)\n",
    "s = \"A very long description\"\n",
    "for total_width in range(5, len(s)+1):\n",
    "    print(total_width, abbr(s, \"...\", total_width))\n",
    "\n",
    "# Edge cases\n",
    "print(abbr(\"\", \"...\", 0))\n",
    "print(abbr(\"\", \"...\", 999))\n",
    "print(abbr(\"\", \"\", 0))\n",
    "print(abbr(\"\", \"\", 999))\n",
    "print(abbr(\"test\", \"...\", 0))\n",
    "print(abbr(\"test\", \"...\", 999))\n",
    "print(abbr(\"test\", \"\", 0))\n",
    "print(abbr(\"test\", \"\", 999))\n",
    "print(abbr(\"A very long description\", \"....................................\", 999))\n",
    "print(abbr(\"A very long description\", \"....................................\", 0))"
   ]
  },
  {
   "cell_type": "code",
   "execution_count": null,
   "metadata": {},
   "outputs": [],
   "source": []
  }
 ],
 "metadata": {
  "interpreter": {
   "hash": "1813b1874f6f84418af257d52e08e51b77c1fa4a78b2eeb48d9f803ad6bb1049"
  },
  "kernelspec": {
   "display_name": "Python 3.9.7 ('base')",
   "language": "python",
   "name": "python3"
  },
  "language_info": {
   "codemirror_mode": {
    "name": "ipython",
    "version": 3
   },
   "file_extension": ".py",
   "mimetype": "text/x-python",
   "name": "python",
   "nbconvert_exporter": "python",
   "pygments_lexer": "ipython3",
   "version": "3.11.4"
  },
  "orig_nbformat": 4
 },
 "nbformat": 4,
 "nbformat_minor": 2
}
